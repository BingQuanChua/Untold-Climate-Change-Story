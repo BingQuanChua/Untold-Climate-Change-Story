{
 "cells": [
  {
   "cell_type": "markdown",
   "id": "83ad66d4",
   "metadata": {},
   "source": [
    "## Table of Contents\n",
    "\n",
    "* [Tableau Supported Map Data](#Tableau-Supported-Map-Data)\n",
    "* [World Bank Climate Data](#World-Bank-Climate-Data)\n",
    "* [Scrapped World Bank Temperature Data](#Scrapped-World-Bank-Temperature-Data)\n",
    "* [Intersecting the Country Codes](#Intersecting-the-Country-Codes)"
   ]
  },
  {
   "cell_type": "code",
   "execution_count": 1,
   "id": "973df1a7",
   "metadata": {},
   "outputs": [],
   "source": [
    "import pandas as pd\n",
    "import numpy as np\n",
    "import matplotlib.pyplot as plt\n",
    "from matplotlib_venn import venn3, venn3_circles # need pip install matplotlib_venn\n",
    "import seaborn as sns\n",
    "import plotly.express as px\n",
    "import plotly.graph_objects as go\n",
    "import math\n",
    "import os\n",
    "import missingno as msno\n",
    "from bs4 import BeautifulSoup\n",
    "import requests\n",
    "\n",
    "import warnings\n",
    "warnings.filterwarnings(\"ignore\")"
   ]
  },
  {
   "cell_type": "markdown",
   "id": "1ddfdb4d",
   "metadata": {},
   "source": [
    "## Tableau Supported Map Data\n",
    "\n",
    "[About Tableau Maps](https://www.tableau.com/mapdata?_ga=2.28389562.701025511.1644926306-701361297.1641624970#data)"
   ]
  },
  {
   "cell_type": "code",
   "execution_count": 2,
   "id": "d75ea69f",
   "metadata": {
    "scrolled": true
   },
   "outputs": [],
   "source": [
    "url = \"https://www.tableau.com/mapdata?_ga=2.28389562.701025511.1644926306-701361297.1641624970#data\"\n",
    "\n",
    "html_content = requests.get(url).text\n",
    "soup = BeautifulSoup(html_content, \"lxml\")"
   ]
  },
  {
   "cell_type": "code",
   "execution_count": 3,
   "id": "e7e9b891",
   "metadata": {},
   "outputs": [],
   "source": [
    "main_content = soup.find(\"div\", attrs={\"id\": \"main_content\"})\n",
    "h5_contents = main_content.find_all(\"h5\")"
   ]
  },
  {
   "cell_type": "code",
   "execution_count": 4,
   "id": "f154c2fa",
   "metadata": {},
   "outputs": [],
   "source": [
    "supported_country_names = []\n",
    "supported_country_codes = []\n",
    "\n",
    "for h5 in h5_contents:\n",
    "    country_name_and_code = h5.contents[0]\n",
    "    \n",
    "    country_name = country_name_and_code[:-6]\n",
    "    country_code = country_name_and_code[-4:-1]\n",
    "    \n",
    "    supported_country_names.append(country_name)\n",
    "    supported_country_codes.append(country_code)"
   ]
  },
  {
   "cell_type": "code",
   "execution_count": 5,
   "id": "3260fc8b",
   "metadata": {},
   "outputs": [
    {
     "name": "stdout",
     "output_type": "stream",
     "text": [
      "250 Tableau supported country codes\n",
      "['AFG', 'ALB', 'DZA', 'ASM', 'AND', 'AGO', 'AIA', 'ATA', 'ATG', 'ARG', 'ARM', 'ABW', 'AUS', 'AUT', 'AZE', 'BHR', 'BGD', 'BRB', 'BLR', 'BEL', 'BLZ', 'BEN', 'BMU', 'BTN', 'BOL', 'BES', 'BIH', 'BWA', 'BVT', 'BRA', 'IOT', 'VGB', 'BRN', 'BGR', 'BFA', 'BDI', 'KHM', 'CMR', 'CAN', 'CPV', 'CYM', 'CAF', 'TCD', 'CHL', 'CHN', 'CXR', 'CCK', 'COL', 'COM', 'COG', 'COK', 'CRI', 'HRV', 'CUB', 'CUW', 'CYP', 'CZE', 'CIV', 'COD', 'DNK', 'DJI', 'DMA', 'DOM', 'ECU', 'EGY', 'SLV', 'GNQ', 'ERI', 'EST', 'SWZ', 'ETH', 'FLK', 'FRO', 'FSM', 'FJI', 'FIN', 'FRA', 'GUF', 'PYF', 'ATF', 'GAB', 'GMB', 'GEO', 'DEU', 'GHA', 'GIB', 'GRC', 'GRL', 'GRD', 'GLP', 'GUM', 'GTM', 'GGY', 'GIN', 'GNB', 'GUY', 'HTI', 'HMD', 'HND', 'HKG', 'HUN', 'ISL', 'IND', 'IDN', 'IRN', 'IRQ', 'IRL', 'IMN', 'ISR', 'ITA', 'JAM', 'JPN', 'JEY', 'JOR', 'KAZ', 'KEN', 'KIR', 'KOS', 'KWT', 'KGZ', 'LAO', 'LVA', 'LBN', 'LSO', 'LBR', 'LBY', 'LIE', 'LTU', 'LUX', 'MAC', 'MDG', 'MWI', 'MYS', 'MDV', 'MLI', 'MLT', 'MHL', 'MTQ', 'MRT', 'MUS', 'MYT', 'MEX', 'MDA', 'MCO', 'MNG', 'MNE', 'MSR', 'MAR', 'MOZ', 'MMR', 'NAM', 'NRU', 'NPL', 'NLD', 'NCL', 'NZL', 'NIC', 'NER', 'NGA', 'NIU', 'NFK', 'PRK', 'MKD', 'CYN', 'MNP', 'NOR', 'OMN', 'PAK', 'PLW', 'PSE', 'PAN', 'PNG', 'PRY', 'PER', 'PHL', 'PCN', 'POL', 'PRT', 'PRI', 'QAT', 'REU', 'ROU', 'RUS', 'RWA', 'BLM', 'SHN', 'KNA', 'LCA', 'MAF', 'SPM', 'VCT', 'WSM', 'SMR', 'STP', 'SAU', 'SEN', 'SRB', 'SYC', 'SLE', 'SGP', 'SXM', 'SVK', 'SVN', 'SLB', 'SOM', 'ZAF', 'SGS', 'KOR', 'SSD', 'ESP', 'LKA', 'SDN', 'SUR', 'SJM', 'SWE', 'CHE', 'SYR', 'TWN', 'TJK', 'TZA', 'THA', 'BHS', 'TLS', 'TGO', 'TKL', 'TON', 'TTO', 'TUN', 'TUR', 'TKM', 'TCA', 'TUV', 'UGA', 'UKR', 'ARE', 'GBR', 'USA', 'UMI', 'URY', 'UZB', 'VUT', 'VAT', 'VEN', 'VNM', 'VIR', 'WLF', 'ESH', 'YEM', 'ZMB', 'ZWE']\n"
     ]
    }
   ],
   "source": [
    "print(len(supported_country_codes), \"Tableau supported country codes\")\n",
    "print(supported_country_codes)"
   ]
  },
  {
   "cell_type": "markdown",
   "id": "6f039553",
   "metadata": {},
   "source": [
    "## World Bank Climate Data"
   ]
  },
  {
   "cell_type": "code",
   "execution_count": 6,
   "id": "9f2df248",
   "metadata": {},
   "outputs": [
    {
     "name": "stdout",
     "output_type": "stream",
     "text": [
      "Cote d'Ivoire\n",
      "Sao Tome and Principe\n",
      "East Asia & Pacific (IDA & IBRD countries)\n",
      "Europe & Central Asia (IDA & IBRD countries)\n",
      "Latin America & the Caribbean (IDA & IBRD countries)\n",
      "Middle East & North Africa (IDA & IBRD countries)\n",
      "Sub-Saharan Africa (IDA & IBRD countries)\n"
     ]
    }
   ],
   "source": [
    "# worldbank imputed data\n",
    "df_worldbank = pd.read_csv('output/worldbank_imputed.csv')\n",
    "\n",
    "# worldbank country codebook\n",
    "meta_country = pd.read_csv('dataset/worldbank/Metadata_Country_API_19_DS2_en_csv_v2_3159902.csv')\n",
    "\n",
    "worldbank_country_codes = []\n",
    "worldbank_country_names = df_worldbank['Country Name'].unique().tolist()\n",
    "\n",
    "for country in worldbank_country_names:\n",
    "    try:\n",
    "        code = meta_country.loc[meta_country['TableName'] == country].iloc[0]['Country Code']\n",
    "        worldbank_country_codes.append(code)\n",
    "    except IndexError:\n",
    "        print(country)"
   ]
  },
  {
   "cell_type": "markdown",
   "id": "b13a17cf",
   "metadata": {},
   "source": [
    "Cote d'Ivoire (CIV) and Sao Tome and Principe (STP) are spelled differently in Worldbank data and its codebook.\n",
    "\n",
    "| Worldbank data        | Codebook              |\n",
    "| --------------------- | --------------------- |\n",
    "| Cote d'Ivoire         | Côte d'Ivoire         |\n",
    "| Sao Tome and Principe | São Tomé and Principe |\n",
    "\n"
   ]
  },
  {
   "cell_type": "code",
   "execution_count": 7,
   "id": "61acd8e8",
   "metadata": {},
   "outputs": [
    {
     "data": {
      "text/html": [
       "<div>\n",
       "<style scoped>\n",
       "    .dataframe tbody tr th:only-of-type {\n",
       "        vertical-align: middle;\n",
       "    }\n",
       "\n",
       "    .dataframe tbody tr th {\n",
       "        vertical-align: top;\n",
       "    }\n",
       "\n",
       "    .dataframe thead th {\n",
       "        text-align: right;\n",
       "    }\n",
       "</style>\n",
       "<table border=\"1\" class=\"dataframe\">\n",
       "  <thead>\n",
       "    <tr style=\"text-align: right;\">\n",
       "      <th></th>\n",
       "      <th>Country Code</th>\n",
       "      <th>Region</th>\n",
       "      <th>IncomeGroup</th>\n",
       "      <th>SpecialNotes</th>\n",
       "      <th>TableName</th>\n",
       "      <th>Unnamed: 5</th>\n",
       "    </tr>\n",
       "  </thead>\n",
       "  <tbody>\n",
       "    <tr>\n",
       "      <th>41</th>\n",
       "      <td>CIV</td>\n",
       "      <td>Sub-Saharan Africa</td>\n",
       "      <td>Lower middle income</td>\n",
       "      <td>NaN</td>\n",
       "      <td>Côte d'Ivoire</td>\n",
       "      <td>NaN</td>\n",
       "    </tr>\n",
       "  </tbody>\n",
       "</table>\n",
       "</div>"
      ],
      "text/plain": [
       "   Country Code              Region          IncomeGroup SpecialNotes  \\\n",
       "41          CIV  Sub-Saharan Africa  Lower middle income          NaN   \n",
       "\n",
       "        TableName  Unnamed: 5  \n",
       "41  Côte d'Ivoire         NaN  "
      ]
     },
     "metadata": {},
     "output_type": "display_data"
    },
    {
     "data": {
      "text/html": [
       "<div>\n",
       "<style scoped>\n",
       "    .dataframe tbody tr th:only-of-type {\n",
       "        vertical-align: middle;\n",
       "    }\n",
       "\n",
       "    .dataframe tbody tr th {\n",
       "        vertical-align: top;\n",
       "    }\n",
       "\n",
       "    .dataframe thead th {\n",
       "        text-align: right;\n",
       "    }\n",
       "</style>\n",
       "<table border=\"1\" class=\"dataframe\">\n",
       "  <thead>\n",
       "    <tr style=\"text-align: right;\">\n",
       "      <th></th>\n",
       "      <th>Country Code</th>\n",
       "      <th>Region</th>\n",
       "      <th>IncomeGroup</th>\n",
       "      <th>SpecialNotes</th>\n",
       "      <th>TableName</th>\n",
       "      <th>Unnamed: 5</th>\n",
       "    </tr>\n",
       "  </thead>\n",
       "  <tbody>\n",
       "    <tr>\n",
       "      <th>218</th>\n",
       "      <td>STP</td>\n",
       "      <td>Sub-Saharan Africa</td>\n",
       "      <td>Lower middle income</td>\n",
       "      <td>National account data were adjusted to reflect...</td>\n",
       "      <td>São Tomé and Principe</td>\n",
       "      <td>NaN</td>\n",
       "    </tr>\n",
       "  </tbody>\n",
       "</table>\n",
       "</div>"
      ],
      "text/plain": [
       "    Country Code              Region          IncomeGroup  \\\n",
       "218          STP  Sub-Saharan Africa  Lower middle income   \n",
       "\n",
       "                                          SpecialNotes              TableName  \\\n",
       "218  National account data were adjusted to reflect...  São Tomé and Principe   \n",
       "\n",
       "     Unnamed: 5  \n",
       "218         NaN  "
      ]
     },
     "metadata": {},
     "output_type": "display_data"
    }
   ],
   "source": [
    "display(meta_country.loc[meta_country['Country Code'] == 'CIV'])\n",
    "display(meta_country.loc[meta_country['Country Code'] == 'STP'])"
   ]
  },
  {
   "cell_type": "markdown",
   "id": "d478526a",
   "metadata": {},
   "source": [
    "Therefore we add `CIV` and `STP` into the list."
   ]
  },
  {
   "cell_type": "code",
   "execution_count": 8,
   "id": "e4e041b6",
   "metadata": {},
   "outputs": [],
   "source": [
    "worldbank_country_codes.append('CIV')\n",
    "worldbank_country_codes.append('STP')"
   ]
  },
  {
   "cell_type": "code",
   "execution_count": 9,
   "id": "0b382917",
   "metadata": {
    "scrolled": false
   },
   "outputs": [
    {
     "name": "stdout",
     "output_type": "stream",
     "text": [
      "250 country codes\n",
      "['ABW', 'AFE', 'AFG', 'AFW', 'AGO', 'ALB', 'AND', 'ARB', 'ARE', 'ARG', 'ARM', 'ASM', 'ATG', 'AUS', 'AUT', 'AZE', 'BDI', 'BEL', 'BEN', 'BFA', 'BGD', 'BGR', 'BHR', 'BHS', 'BIH', 'BLR', 'BLZ', 'BMU', 'BOL', 'BRA', 'BRB', 'BRN', 'BTN', 'BWA', 'CAF', 'CAN', 'CEB', 'CHE', 'CHL', 'CHN', 'CMR', 'COD', 'COG', 'COL', 'COM', 'CPV', 'CRI', 'CSS', 'CUB', 'CYM', 'CYP', 'CZE', 'DEU', 'DJI', 'DMA', 'DNK', 'DOM', 'DZA', 'EAP', 'EAR', 'EAS', 'ECA', 'ECS', 'ECU', 'EGY', 'EMU', 'ERI', 'ESP', 'EST', 'ETH', 'EUU', 'FCS', 'FIN', 'FJI', 'FRA', 'FRO', 'FSM', 'GAB', 'GBR', 'GEO', 'GHA', 'GIB', 'GIN', 'GMB', 'GNB', 'GNQ', 'GRC', 'GRD', 'GRL', 'GTM', 'GUM', 'GUY', 'HIC', 'HKG', 'HND', 'HPC', 'HRV', 'HTI', 'HUN', 'IBD', 'IBT', 'IDA', 'IDB', 'IDN', 'IDX', 'IND', 'IRL', 'IRN', 'IRQ', 'ISL', 'ISR', 'ITA', 'JAM', 'JOR', 'JPN', 'KAZ', 'KEN', 'KGZ', 'KHM', 'KIR', 'KNA', 'KOR', 'KWT', 'LAC', 'LAO', 'LBN', 'LBR', 'LBY', 'LCA', 'LCN', 'LDC', 'LIC', 'LIE', 'LKA', 'LMC', 'LMY', 'LSO', 'LTE', 'LTU', 'LUX', 'LVA', 'MAC', 'MAR', 'MDA', 'MDG', 'MDV', 'MEA', 'MEX', 'MHL', 'MIC', 'MKD', 'MLI', 'MLT', 'MMR', 'MNA', 'MNE', 'MNG', 'MOZ', 'MRT', 'MUS', 'MWI', 'MYS', 'NAC', 'NAM', 'NCL', 'NER', 'NGA', 'NIC', 'NLD', 'NOR', 'NPL', 'NRU', 'NZL', 'OED', 'OMN', 'OSS', 'PAK', 'PAN', 'PER', 'PHL', 'PLW', 'PNG', 'POL', 'PRE', 'PRI', 'PRK', 'PRT', 'PRY', 'PSE', 'PSS', 'PST', 'PYF', 'QAT', 'ROU', 'RUS', 'RWA', 'SAS', 'SAU', 'SDN', 'SEN', 'SGP', 'SLB', 'SLE', 'SLV', 'SOM', 'SRB', 'SSA', 'SSF', 'SST', 'SUR', 'SVK', 'SVN', 'SWE', 'SWZ', 'SYC', 'SYR', 'TCA', 'TCD', 'TGO', 'THA', 'TJK', 'TKM', 'TLS', 'TON', 'TSA', 'TTO', 'TUN', 'TUR', 'TUV', 'TZA', 'UGA', 'UKR', 'UMC', 'URY', 'USA', 'UZB', 'VCT', 'VEN', 'VGB', 'VIR', 'VNM', 'VUT', 'WLD', 'WSM', 'YEM', 'ZAF', 'ZMB', 'ZWE', 'CIV', 'STP']\n"
     ]
    }
   ],
   "source": [
    "print(len(worldbank_country_codes), \"country codes\")\n",
    "print(worldbank_country_codes)"
   ]
  },
  {
   "cell_type": "markdown",
   "id": "35323358",
   "metadata": {},
   "source": [
    "## Scrapped World Bank Temperature Data "
   ]
  },
  {
   "cell_type": "code",
   "execution_count": 10,
   "id": "7df6bfa9",
   "metadata": {},
   "outputs": [
    {
     "data": {
      "text/plain": [
       "['tas_timeseries_annual_cru_1901-2020_ABW.csv',\n",
       " 'tas_timeseries_annual_cru_1901-2020_AFG.csv',\n",
       " 'tas_timeseries_annual_cru_1901-2020_AGO.csv',\n",
       " 'tas_timeseries_annual_cru_1901-2020_AIA.csv',\n",
       " 'tas_timeseries_annual_cru_1901-2020_ALB.csv',\n",
       " 'tas_timeseries_annual_cru_1901-2020_AND.csv',\n",
       " 'tas_timeseries_annual_cru_1901-2020_ARE.csv',\n",
       " 'tas_timeseries_annual_cru_1901-2020_ARG.csv',\n",
       " 'tas_timeseries_annual_cru_1901-2020_ARM.csv',\n",
       " 'tas_timeseries_annual_cru_1901-2020_ASM.csv',\n",
       " 'tas_timeseries_annual_cru_1901-2020_ATG.csv',\n",
       " 'tas_timeseries_annual_cru_1901-2020_AUS.csv',\n",
       " 'tas_timeseries_annual_cru_1901-2020_AUT.csv',\n",
       " 'tas_timeseries_annual_cru_1901-2020_AZE.csv',\n",
       " 'tas_timeseries_annual_cru_1901-2020_BDI.csv',\n",
       " 'tas_timeseries_annual_cru_1901-2020_BEL.csv',\n",
       " 'tas_timeseries_annual_cru_1901-2020_BEN.csv',\n",
       " 'tas_timeseries_annual_cru_1901-2020_BFA.csv',\n",
       " 'tas_timeseries_annual_cru_1901-2020_BGD.csv',\n",
       " 'tas_timeseries_annual_cru_1901-2020_BGR.csv',\n",
       " 'tas_timeseries_annual_cru_1901-2020_BHR.csv',\n",
       " 'tas_timeseries_annual_cru_1901-2020_BHS.csv',\n",
       " 'tas_timeseries_annual_cru_1901-2020_BIH.csv',\n",
       " 'tas_timeseries_annual_cru_1901-2020_BLR.csv',\n",
       " 'tas_timeseries_annual_cru_1901-2020_BLZ.csv',\n",
       " 'tas_timeseries_annual_cru_1901-2020_BMU.csv',\n",
       " 'tas_timeseries_annual_cru_1901-2020_BOL.csv',\n",
       " 'tas_timeseries_annual_cru_1901-2020_BRA.csv',\n",
       " 'tas_timeseries_annual_cru_1901-2020_BRB.csv',\n",
       " 'tas_timeseries_annual_cru_1901-2020_BTN.csv',\n",
       " 'tas_timeseries_annual_cru_1901-2020_BWA.csv',\n",
       " 'tas_timeseries_annual_cru_1901-2020_CAF.csv',\n",
       " 'tas_timeseries_annual_cru_1901-2020_CAN.csv',\n",
       " 'tas_timeseries_annual_cru_1901-2020_CCK.csv',\n",
       " 'tas_timeseries_annual_cru_1901-2020_CHE.csv',\n",
       " 'tas_timeseries_annual_cru_1901-2020_CHL.csv',\n",
       " 'tas_timeseries_annual_cru_1901-2020_CHN.csv',\n",
       " 'tas_timeseries_annual_cru_1901-2020_CIV.csv',\n",
       " 'tas_timeseries_annual_cru_1901-2020_CMR.csv',\n",
       " 'tas_timeseries_annual_cru_1901-2020_COD.csv',\n",
       " 'tas_timeseries_annual_cru_1901-2020_COG.csv',\n",
       " 'tas_timeseries_annual_cru_1901-2020_COK.csv',\n",
       " 'tas_timeseries_annual_cru_1901-2020_COL.csv',\n",
       " 'tas_timeseries_annual_cru_1901-2020_COM.csv',\n",
       " 'tas_timeseries_annual_cru_1901-2020_CPV.csv',\n",
       " 'tas_timeseries_annual_cru_1901-2020_CRI.csv',\n",
       " 'tas_timeseries_annual_cru_1901-2020_CUB.csv',\n",
       " 'tas_timeseries_annual_cru_1901-2020_CXR.csv',\n",
       " 'tas_timeseries_annual_cru_1901-2020_CYM.csv',\n",
       " 'tas_timeseries_annual_cru_1901-2020_CYP.csv',\n",
       " 'tas_timeseries_annual_cru_1901-2020_CZE.csv',\n",
       " 'tas_timeseries_annual_cru_1901-2020_DEU.csv',\n",
       " 'tas_timeseries_annual_cru_1901-2020_DJI.csv',\n",
       " 'tas_timeseries_annual_cru_1901-2020_DMA.csv',\n",
       " 'tas_timeseries_annual_cru_1901-2020_DNK.csv',\n",
       " 'tas_timeseries_annual_cru_1901-2020_DOM.csv',\n",
       " 'tas_timeseries_annual_cru_1901-2020_DZA.csv',\n",
       " 'tas_timeseries_annual_cru_1901-2020_ECU.csv',\n",
       " 'tas_timeseries_annual_cru_1901-2020_EGY.csv',\n",
       " 'tas_timeseries_annual_cru_1901-2020_ERI.csv',\n",
       " 'tas_timeseries_annual_cru_1901-2020_ESH.csv',\n",
       " 'tas_timeseries_annual_cru_1901-2020_ESP.csv',\n",
       " 'tas_timeseries_annual_cru_1901-2020_EST.csv',\n",
       " 'tas_timeseries_annual_cru_1901-2020_ETH.csv',\n",
       " 'tas_timeseries_annual_cru_1901-2020_FIN.csv',\n",
       " 'tas_timeseries_annual_cru_1901-2020_FJI.csv',\n",
       " 'tas_timeseries_annual_cru_1901-2020_FLK.csv',\n",
       " 'tas_timeseries_annual_cru_1901-2020_FRA.csv',\n",
       " 'tas_timeseries_annual_cru_1901-2020_FRO.csv',\n",
       " 'tas_timeseries_annual_cru_1901-2020_FSM.csv',\n",
       " 'tas_timeseries_annual_cru_1901-2020_GAB.csv',\n",
       " 'tas_timeseries_annual_cru_1901-2020_GBR.csv',\n",
       " 'tas_timeseries_annual_cru_1901-2020_GEO.csv',\n",
       " 'tas_timeseries_annual_cru_1901-2020_GHA.csv',\n",
       " 'tas_timeseries_annual_cru_1901-2020_GIB.csv',\n",
       " 'tas_timeseries_annual_cru_1901-2020_GIN.csv',\n",
       " 'tas_timeseries_annual_cru_1901-2020_GLP.csv',\n",
       " 'tas_timeseries_annual_cru_1901-2020_GMB.csv',\n",
       " 'tas_timeseries_annual_cru_1901-2020_GNB.csv',\n",
       " 'tas_timeseries_annual_cru_1901-2020_GNQ.csv',\n",
       " 'tas_timeseries_annual_cru_1901-2020_GRC.csv',\n",
       " 'tas_timeseries_annual_cru_1901-2020_GRD.csv',\n",
       " 'tas_timeseries_annual_cru_1901-2020_GRL.csv',\n",
       " 'tas_timeseries_annual_cru_1901-2020_GTM.csv',\n",
       " 'tas_timeseries_annual_cru_1901-2020_GUF.csv',\n",
       " 'tas_timeseries_annual_cru_1901-2020_GUM.csv',\n",
       " 'tas_timeseries_annual_cru_1901-2020_GUY.csv',\n",
       " 'tas_timeseries_annual_cru_1901-2020_HND.csv',\n",
       " 'tas_timeseries_annual_cru_1901-2020_HRV.csv',\n",
       " 'tas_timeseries_annual_cru_1901-2020_HTI.csv',\n",
       " 'tas_timeseries_annual_cru_1901-2020_HUN.csv',\n",
       " 'tas_timeseries_annual_cru_1901-2020_IDN.csv',\n",
       " 'tas_timeseries_annual_cru_1901-2020_IND.csv',\n",
       " 'tas_timeseries_annual_cru_1901-2020_IOT.csv',\n",
       " 'tas_timeseries_annual_cru_1901-2020_IRL.csv',\n",
       " 'tas_timeseries_annual_cru_1901-2020_IRN.csv',\n",
       " 'tas_timeseries_annual_cru_1901-2020_IRQ.csv',\n",
       " 'tas_timeseries_annual_cru_1901-2020_ISL.csv',\n",
       " 'tas_timeseries_annual_cru_1901-2020_ISR.csv',\n",
       " 'tas_timeseries_annual_cru_1901-2020_ITA.csv',\n",
       " 'tas_timeseries_annual_cru_1901-2020_JAM.csv',\n",
       " 'tas_timeseries_annual_cru_1901-2020_JOR.csv',\n",
       " 'tas_timeseries_annual_cru_1901-2020_JPN.csv',\n",
       " 'tas_timeseries_annual_cru_1901-2020_KAZ.csv',\n",
       " 'tas_timeseries_annual_cru_1901-2020_KEN.csv',\n",
       " 'tas_timeseries_annual_cru_1901-2020_KGZ.csv',\n",
       " 'tas_timeseries_annual_cru_1901-2020_KHM.csv',\n",
       " 'tas_timeseries_annual_cru_1901-2020_KIR.csv',\n",
       " 'tas_timeseries_annual_cru_1901-2020_KNA.csv',\n",
       " 'tas_timeseries_annual_cru_1901-2020_KOR.csv',\n",
       " 'tas_timeseries_annual_cru_1901-2020_KWT.csv',\n",
       " 'tas_timeseries_annual_cru_1901-2020_LAO.csv',\n",
       " 'tas_timeseries_annual_cru_1901-2020_LBN.csv',\n",
       " 'tas_timeseries_annual_cru_1901-2020_LBR.csv',\n",
       " 'tas_timeseries_annual_cru_1901-2020_LBY.csv',\n",
       " 'tas_timeseries_annual_cru_1901-2020_LCA.csv',\n",
       " 'tas_timeseries_annual_cru_1901-2020_LIE.csv',\n",
       " 'tas_timeseries_annual_cru_1901-2020_LKA.csv',\n",
       " 'tas_timeseries_annual_cru_1901-2020_LSO.csv',\n",
       " 'tas_timeseries_annual_cru_1901-2020_LTU.csv',\n",
       " 'tas_timeseries_annual_cru_1901-2020_LUX.csv',\n",
       " 'tas_timeseries_annual_cru_1901-2020_LVA.csv',\n",
       " 'tas_timeseries_annual_cru_1901-2020_MAC.csv',\n",
       " 'tas_timeseries_annual_cru_1901-2020_MAR.csv',\n",
       " 'tas_timeseries_annual_cru_1901-2020_MCO.csv',\n",
       " 'tas_timeseries_annual_cru_1901-2020_MDA.csv',\n",
       " 'tas_timeseries_annual_cru_1901-2020_MDG.csv',\n",
       " 'tas_timeseries_annual_cru_1901-2020_MDV.csv',\n",
       " 'tas_timeseries_annual_cru_1901-2020_MEX.csv',\n",
       " 'tas_timeseries_annual_cru_1901-2020_MHL.csv',\n",
       " 'tas_timeseries_annual_cru_1901-2020_MKD.csv',\n",
       " 'tas_timeseries_annual_cru_1901-2020_MLI.csv',\n",
       " 'tas_timeseries_annual_cru_1901-2020_MLT.csv',\n",
       " 'tas_timeseries_annual_cru_1901-2020_MMR.csv',\n",
       " 'tas_timeseries_annual_cru_1901-2020_MNE.csv',\n",
       " 'tas_timeseries_annual_cru_1901-2020_MNG.csv',\n",
       " 'tas_timeseries_annual_cru_1901-2020_MNP.csv',\n",
       " 'tas_timeseries_annual_cru_1901-2020_MOZ.csv',\n",
       " 'tas_timeseries_annual_cru_1901-2020_MRT.csv',\n",
       " 'tas_timeseries_annual_cru_1901-2020_MSR.csv',\n",
       " 'tas_timeseries_annual_cru_1901-2020_MTQ.csv',\n",
       " 'tas_timeseries_annual_cru_1901-2020_MUS.csv',\n",
       " 'tas_timeseries_annual_cru_1901-2020_MWI.csv',\n",
       " 'tas_timeseries_annual_cru_1901-2020_MYS.csv',\n",
       " 'tas_timeseries_annual_cru_1901-2020_MYT.csv',\n",
       " 'tas_timeseries_annual_cru_1901-2020_NAM.csv',\n",
       " 'tas_timeseries_annual_cru_1901-2020_NCL.csv',\n",
       " 'tas_timeseries_annual_cru_1901-2020_NER.csv',\n",
       " 'tas_timeseries_annual_cru_1901-2020_NFK.csv',\n",
       " 'tas_timeseries_annual_cru_1901-2020_NGA.csv',\n",
       " 'tas_timeseries_annual_cru_1901-2020_NIC.csv',\n",
       " 'tas_timeseries_annual_cru_1901-2020_NIU.csv',\n",
       " 'tas_timeseries_annual_cru_1901-2020_NLD.csv',\n",
       " 'tas_timeseries_annual_cru_1901-2020_NOR.csv',\n",
       " 'tas_timeseries_annual_cru_1901-2020_NPL.csv',\n",
       " 'tas_timeseries_annual_cru_1901-2020_NRU.csv',\n",
       " 'tas_timeseries_annual_cru_1901-2020_NZL.csv',\n",
       " 'tas_timeseries_annual_cru_1901-2020_OMN.csv',\n",
       " 'tas_timeseries_annual_cru_1901-2020_PAK.csv',\n",
       " 'tas_timeseries_annual_cru_1901-2020_PAN.csv',\n",
       " 'tas_timeseries_annual_cru_1901-2020_PCN.csv',\n",
       " 'tas_timeseries_annual_cru_1901-2020_PER.csv',\n",
       " 'tas_timeseries_annual_cru_1901-2020_PHL.csv',\n",
       " 'tas_timeseries_annual_cru_1901-2020_PLW.csv',\n",
       " 'tas_timeseries_annual_cru_1901-2020_PNG.csv',\n",
       " 'tas_timeseries_annual_cru_1901-2020_POL.csv',\n",
       " 'tas_timeseries_annual_cru_1901-2020_PRI.csv',\n",
       " 'tas_timeseries_annual_cru_1901-2020_PRK.csv',\n",
       " 'tas_timeseries_annual_cru_1901-2020_PRT.csv',\n",
       " 'tas_timeseries_annual_cru_1901-2020_PRY.csv',\n",
       " 'tas_timeseries_annual_cru_1901-2020_PSE.csv',\n",
       " 'tas_timeseries_annual_cru_1901-2020_PYF.csv',\n",
       " 'tas_timeseries_annual_cru_1901-2020_QAT.csv',\n",
       " 'tas_timeseries_annual_cru_1901-2020_REU.csv',\n",
       " 'tas_timeseries_annual_cru_1901-2020_ROU.csv',\n",
       " 'tas_timeseries_annual_cru_1901-2020_RUS.csv',\n",
       " 'tas_timeseries_annual_cru_1901-2020_RWA.csv',\n",
       " 'tas_timeseries_annual_cru_1901-2020_SAU.csv',\n",
       " 'tas_timeseries_annual_cru_1901-2020_SDN.csv',\n",
       " 'tas_timeseries_annual_cru_1901-2020_SEN.csv',\n",
       " 'tas_timeseries_annual_cru_1901-2020_SGP.csv',\n",
       " 'tas_timeseries_annual_cru_1901-2020_SHN.csv',\n",
       " 'tas_timeseries_annual_cru_1901-2020_SJM.csv',\n",
       " 'tas_timeseries_annual_cru_1901-2020_SLB.csv',\n",
       " 'tas_timeseries_annual_cru_1901-2020_SLE.csv',\n",
       " 'tas_timeseries_annual_cru_1901-2020_SLV.csv',\n",
       " 'tas_timeseries_annual_cru_1901-2020_SMR.csv',\n",
       " 'tas_timeseries_annual_cru_1901-2020_SOM.csv',\n",
       " 'tas_timeseries_annual_cru_1901-2020_SRB.csv',\n",
       " 'tas_timeseries_annual_cru_1901-2020_SSD.csv',\n",
       " 'tas_timeseries_annual_cru_1901-2020_STP.csv',\n",
       " 'tas_timeseries_annual_cru_1901-2020_SUR.csv',\n",
       " 'tas_timeseries_annual_cru_1901-2020_SVK.csv',\n",
       " 'tas_timeseries_annual_cru_1901-2020_SVN.csv',\n",
       " 'tas_timeseries_annual_cru_1901-2020_SWE.csv',\n",
       " 'tas_timeseries_annual_cru_1901-2020_SWZ.csv',\n",
       " 'tas_timeseries_annual_cru_1901-2020_SYC.csv',\n",
       " 'tas_timeseries_annual_cru_1901-2020_SYR.csv',\n",
       " 'tas_timeseries_annual_cru_1901-2020_TCA.csv',\n",
       " 'tas_timeseries_annual_cru_1901-2020_TCD.csv',\n",
       " 'tas_timeseries_annual_cru_1901-2020_TGO.csv',\n",
       " 'tas_timeseries_annual_cru_1901-2020_THA.csv',\n",
       " 'tas_timeseries_annual_cru_1901-2020_TJK.csv',\n",
       " 'tas_timeseries_annual_cru_1901-2020_TKL.csv',\n",
       " 'tas_timeseries_annual_cru_1901-2020_TKM.csv',\n",
       " 'tas_timeseries_annual_cru_1901-2020_TLS.csv',\n",
       " 'tas_timeseries_annual_cru_1901-2020_TON.csv',\n",
       " 'tas_timeseries_annual_cru_1901-2020_TTO.csv',\n",
       " 'tas_timeseries_annual_cru_1901-2020_TUN.csv',\n",
       " 'tas_timeseries_annual_cru_1901-2020_TUR.csv',\n",
       " 'tas_timeseries_annual_cru_1901-2020_TUV.csv',\n",
       " 'tas_timeseries_annual_cru_1901-2020_TZA.csv',\n",
       " 'tas_timeseries_annual_cru_1901-2020_UGA.csv',\n",
       " 'tas_timeseries_annual_cru_1901-2020_UKR.csv',\n",
       " 'tas_timeseries_annual_cru_1901-2020_URY.csv',\n",
       " 'tas_timeseries_annual_cru_1901-2020_USA.csv',\n",
       " 'tas_timeseries_annual_cru_1901-2020_UZB.csv',\n",
       " 'tas_timeseries_annual_cru_1901-2020_VCT.csv',\n",
       " 'tas_timeseries_annual_cru_1901-2020_VEN.csv',\n",
       " 'tas_timeseries_annual_cru_1901-2020_VIR.csv',\n",
       " 'tas_timeseries_annual_cru_1901-2020_VNM.csv',\n",
       " 'tas_timeseries_annual_cru_1901-2020_VUT.csv',\n",
       " 'tas_timeseries_annual_cru_1901-2020_WLF.csv',\n",
       " 'tas_timeseries_annual_cru_1901-2020_WSM.csv',\n",
       " 'tas_timeseries_annual_cru_1901-2020_YEM.csv',\n",
       " 'tas_timeseries_annual_cru_1901-2020_ZAF.csv',\n",
       " 'tas_timeseries_annual_cru_1901-2020_ZMB.csv',\n",
       " 'tas_timeseries_annual_cru_1901-2020_ZWE.csv']"
      ]
     },
     "execution_count": 10,
     "metadata": {},
     "output_type": "execute_result"
    }
   ],
   "source": [
    "path = \"dataset/data_scraping/data/\"\n",
    "data_list = os.listdir(path)\n",
    "data_list"
   ]
  },
  {
   "cell_type": "code",
   "execution_count": 11,
   "id": "ccc645df",
   "metadata": {},
   "outputs": [
    {
     "data": {
      "text/plain": [
       "228"
      ]
     },
     "execution_count": 11,
     "metadata": {},
     "output_type": "execute_result"
    }
   ],
   "source": [
    "len(data_list)"
   ]
  },
  {
   "cell_type": "code",
   "execution_count": 12,
   "id": "3ee9dd22",
   "metadata": {
    "scrolled": false
   },
   "outputs": [
    {
     "name": "stdout",
     "output_type": "stream",
     "text": [
      "228 country codes\n",
      "['ABW', 'AFG', 'AGO', 'AIA', 'ALB', 'AND', 'ARE', 'ARG', 'ARM', 'ASM', 'ATG', 'AUS', 'AUT', 'AZE', 'BDI', 'BEL', 'BEN', 'BFA', 'BGD', 'BGR', 'BHR', 'BHS', 'BIH', 'BLR', 'BLZ', 'BMU', 'BOL', 'BRA', 'BRB', 'BTN', 'BWA', 'CAF', 'CAN', 'CCK', 'CHE', 'CHL', 'CHN', 'CIV', 'CMR', 'COD', 'COG', 'COK', 'COL', 'COM', 'CPV', 'CRI', 'CUB', 'CXR', 'CYM', 'CYP', 'CZE', 'DEU', 'DJI', 'DMA', 'DNK', 'DOM', 'DZA', 'ECU', 'EGY', 'ERI', 'ESH', 'ESP', 'EST', 'ETH', 'FIN', 'FJI', 'FLK', 'FRA', 'FRO', 'FSM', 'GAB', 'GBR', 'GEO', 'GHA', 'GIB', 'GIN', 'GLP', 'GMB', 'GNB', 'GNQ', 'GRC', 'GRD', 'GRL', 'GTM', 'GUF', 'GUM', 'GUY', 'HND', 'HRV', 'HTI', 'HUN', 'IDN', 'IND', 'IOT', 'IRL', 'IRN', 'IRQ', 'ISL', 'ISR', 'ITA', 'JAM', 'JOR', 'JPN', 'KAZ', 'KEN', 'KGZ', 'KHM', 'KIR', 'KNA', 'KOR', 'KWT', 'LAO', 'LBN', 'LBR', 'LBY', 'LCA', 'LIE', 'LKA', 'LSO', 'LTU', 'LUX', 'LVA', 'MAC', 'MAR', 'MCO', 'MDA', 'MDG', 'MDV', 'MEX', 'MHL', 'MKD', 'MLI', 'MLT', 'MMR', 'MNE', 'MNG', 'MNP', 'MOZ', 'MRT', 'MSR', 'MTQ', 'MUS', 'MWI', 'MYS', 'MYT', 'NAM', 'NCL', 'NER', 'NFK', 'NGA', 'NIC', 'NIU', 'NLD', 'NOR', 'NPL', 'NRU', 'NZL', 'OMN', 'PAK', 'PAN', 'PCN', 'PER', 'PHL', 'PLW', 'PNG', 'POL', 'PRI', 'PRK', 'PRT', 'PRY', 'PSE', 'PYF', 'QAT', 'REU', 'ROU', 'RUS', 'RWA', 'SAU', 'SDN', 'SEN', 'SGP', 'SHN', 'SJM', 'SLB', 'SLE', 'SLV', 'SMR', 'SOM', 'SRB', 'SSD', 'STP', 'SUR', 'SVK', 'SVN', 'SWE', 'SWZ', 'SYC', 'SYR', 'TCA', 'TCD', 'TGO', 'THA', 'TJK', 'TKL', 'TKM', 'TLS', 'TON', 'TTO', 'TUN', 'TUR', 'TUV', 'TZA', 'UGA', 'UKR', 'URY', 'USA', 'UZB', 'VCT', 'VEN', 'VIR', 'VNM', 'VUT', 'WLF', 'WSM', 'YEM', 'ZAF', 'ZMB', 'ZWE']\n"
     ]
    }
   ],
   "source": [
    "scrapped_country_codes = [filename[-7:-4] for filename in data_list]\n",
    "print(len(scrapped_country_codes), \"country codes\")\n",
    "print(scrapped_country_codes)"
   ]
  },
  {
   "cell_type": "markdown",
   "id": "c6caa32f",
   "metadata": {},
   "source": [
    "## Intersecting the Country Codes"
   ]
  },
  {
   "cell_type": "markdown",
   "id": "e3e93872",
   "metadata": {},
   "source": [
    "Now we have 3 lists of country codes:\n",
    "\n",
    "* `supported_country_codes`: List of country codes supported by Tableau\n",
    "* `worldbank_country_codes`: List of country codes from our imputed World Bank climate data\n",
    "* `scrapped_country_codes`: List of country codes from our scrapped World Bank temperature data"
   ]
  },
  {
   "cell_type": "code",
   "execution_count": 13,
   "id": "33a88e8d",
   "metadata": {},
   "outputs": [
    {
     "data": {
      "image/png": "[encoded data removed]",
      "text/plain": [
       "<Figure size 432x288 with 1 Axes>"
      ]
     },
     "metadata": {},
     "output_type": "display_data"
    }
   ],
   "source": [
    "v = venn3([set(worldbank_country_codes), set(supported_country_codes), set(scrapped_country_codes)],\n",
    "     set_labels = (\"Worldbank climate data's \\ncountry codes\", \n",
    "                   \"Tableau supported \\ncountry codes\",\n",
    "                   \"Scrapped temperature data's \\ncountry codes\"),\n",
    "     alpha = 0.75)\n",
    "\n",
    "# adds outter line\n",
    "venn3_circles([set(worldbank_country_codes), set(supported_country_codes), set(scrapped_country_codes)], lw=0.7)\n",
    "\n",
    "plt.show()"
   ]
  },
  {
   "cell_type": "code",
   "execution_count": 14,
   "id": "f77d9618",
   "metadata": {},
   "outputs": [
    {
     "name": "stdout",
     "output_type": "stream",
     "text": [
      "204 available country codes\n",
      "['MDG', 'COL', 'AUT', 'IND', 'PHL', 'MEX', 'ECU', 'BLZ', 'SAU', 'PLW', 'MMR', 'SLE', 'LSO', 'CUB', 'AZE', 'MHL', 'URY', 'NOR', 'DEU', 'TLS', 'PRK', 'LBN', 'ARE', 'COD', 'MOZ', 'TJK', 'GMB', 'IRQ', 'STP', 'JPN', 'EGY', 'MRT', 'TCA', 'DMA', 'MLI', 'GRC', 'NPL', 'GIN', 'CIV', 'PSE', 'GUY', 'PAN', 'GEO', 'FSM', 'NER', 'SLB', 'KIR', 'LVA', 'VCT', 'MNG', 'ISL', 'LTU', 'NAM', 'PAK', 'GNB', 'RWA', 'SVN', 'LBY', 'TZA', 'UGA', 'ZAF', 'HND', 'HUN', 'BRA', 'BLR', 'PYF', 'MDV', 'KOR', 'AGO', 'UKR', 'ROU', 'CPV', 'AND', 'IRN', 'CAF', 'EST', 'BHS', 'SOM', 'SUR', 'DOM', 'ETH', 'NIC', 'KAZ', 'BGD', 'MKD', 'BDI', 'CYP', 'ARG', 'IDN', 'SWE', 'HRV', 'MYS', 'SRB', 'CHN', 'LCA', 'SLV', 'FRO', 'GAB', 'NGA', 'YEM', 'AFG', 'FIN', 'BEL', 'ATG', 'BIH', 'UZB', 'ABW', 'TKM', 'ZWE', 'VUT', 'TCD', 'COM', 'LIE', 'PER', 'TUN', 'ZMB', 'ITA', 'BTN', 'BFA', 'ERI', 'GUM', 'TGO', 'CMR', 'GNQ', 'GBR', 'AUS', 'GTM', 'TUV', 'BHR', 'JOR', 'VNM', 'NCL', 'BOL', 'FRA', 'ISR', 'THA', 'BEN', 'ASM', 'MLT', 'GIB', 'CHE', 'GRD', 'TON', 'MAC', 'USA', 'MWI', 'QAT', 'SGP', 'SYR', 'GRL', 'KNA', 'DNK', 'SEN', 'MDA', 'DJI', 'LBR', 'CYM', 'MNE', 'BMU', 'TUR', 'PNG', 'SYC', 'LKA', 'SDN', 'NZL', 'TTO', 'VEN', 'BRB', 'KWT', 'CRI', 'MAR', 'DZA', 'HTI', 'LAO', 'LUX', 'NRU', 'CAN', 'JAM', 'CZE', 'FJI', 'KGZ', 'COG', 'NLD', 'PRT', 'BGR', 'SVK', 'ESP', 'SWZ', 'CHL', 'POL', 'RUS', 'MUS', 'KEN', 'VIR', 'ALB', 'ARM', 'OMN', 'PRY', 'WSM', 'KHM', 'GHA', 'PRI', 'BWA', 'IRL']\n"
     ]
    }
   ],
   "source": [
    "# intersecting the three lists\n",
    "available_country_codes = list(set(worldbank_country_codes) & set(supported_country_codes) & set(scrapped_country_codes))\n",
    "print(len(available_country_codes), \"available country codes\")\n",
    "print(available_country_codes)"
   ]
  },
  {
   "cell_type": "code",
   "execution_count": null,
   "id": "2494ef8c",
   "metadata": {},
   "outputs": [],
   "source": []
  },
  {
   "cell_type": "code",
   "execution_count": null,
   "id": "ea3a521b",
   "metadata": {},
   "outputs": [],
   "source": []
  },
  {
   "cell_type": "code",
   "execution_count": null,
   "id": "063ede9d",
   "metadata": {},
   "outputs": [],
   "source": []
  },
  {
   "cell_type": "markdown",
   "id": "69c32761",
   "metadata": {},
   "source": [
    "<span style=\"color:red\">Ignore this for now</span>\n",
    "\n",
    "## GitHub Country Codes\n",
    "\n",
    "Available on [GitHub](https://gist.github.com/tadast/8827699)"
   ]
  },
  {
   "cell_type": "code",
   "execution_count": 15,
   "id": "3dbd7b89",
   "metadata": {},
   "outputs": [],
   "source": [
    "df_country_codes = pd.read_csv('dataset/countries_codes_and_coordinates.csv')"
   ]
  },
  {
   "cell_type": "code",
   "execution_count": 16,
   "id": "c472abc5",
   "metadata": {},
   "outputs": [
    {
     "data": {
      "text/html": [
       "<div>\n",
       "<style scoped>\n",
       "    .dataframe tbody tr th:only-of-type {\n",
       "        vertical-align: middle;\n",
       "    }\n",
       "\n",
       "    .dataframe tbody tr th {\n",
       "        vertical-align: top;\n",
       "    }\n",
       "\n",
       "    .dataframe thead th {\n",
       "        text-align: right;\n",
       "    }\n",
       "</style>\n",
       "<table border=\"1\" class=\"dataframe\">\n",
       "  <thead>\n",
       "    <tr style=\"text-align: right;\">\n",
       "      <th></th>\n",
       "      <th>Country</th>\n",
       "      <th>Alpha-2 code</th>\n",
       "      <th>Alpha-3 code</th>\n",
       "      <th>Numeric code</th>\n",
       "      <th>Latitude (average)</th>\n",
       "      <th>Longitude (average)</th>\n",
       "    </tr>\n",
       "  </thead>\n",
       "  <tbody>\n",
       "    <tr>\n",
       "      <th>0</th>\n",
       "      <td>Afghanistan</td>\n",
       "      <td>\"AF\"</td>\n",
       "      <td>\"AFG\"</td>\n",
       "      <td>\"4\"</td>\n",
       "      <td>\"33\"</td>\n",
       "      <td>\"65\"</td>\n",
       "    </tr>\n",
       "    <tr>\n",
       "      <th>1</th>\n",
       "      <td>Albania</td>\n",
       "      <td>\"AL\"</td>\n",
       "      <td>\"ALB\"</td>\n",
       "      <td>\"8\"</td>\n",
       "      <td>\"41\"</td>\n",
       "      <td>\"20\"</td>\n",
       "    </tr>\n",
       "    <tr>\n",
       "      <th>2</th>\n",
       "      <td>Algeria</td>\n",
       "      <td>\"DZ\"</td>\n",
       "      <td>\"DZA\"</td>\n",
       "      <td>\"12\"</td>\n",
       "      <td>\"28\"</td>\n",
       "      <td>\"3\"</td>\n",
       "    </tr>\n",
       "    <tr>\n",
       "      <th>3</th>\n",
       "      <td>American Samoa</td>\n",
       "      <td>\"AS\"</td>\n",
       "      <td>\"ASM\"</td>\n",
       "      <td>\"16\"</td>\n",
       "      <td>\"-14.3333\"</td>\n",
       "      <td>\"-170\"</td>\n",
       "    </tr>\n",
       "    <tr>\n",
       "      <th>4</th>\n",
       "      <td>Andorra</td>\n",
       "      <td>\"AD\"</td>\n",
       "      <td>\"AND\"</td>\n",
       "      <td>\"20\"</td>\n",
       "      <td>\"42.5\"</td>\n",
       "      <td>\"1.6\"</td>\n",
       "    </tr>\n",
       "    <tr>\n",
       "      <th>...</th>\n",
       "      <td>...</td>\n",
       "      <td>...</td>\n",
       "      <td>...</td>\n",
       "      <td>...</td>\n",
       "      <td>...</td>\n",
       "      <td>...</td>\n",
       "    </tr>\n",
       "    <tr>\n",
       "      <th>251</th>\n",
       "      <td>Wallis and Futuna</td>\n",
       "      <td>\"WF\"</td>\n",
       "      <td>\"WLF\"</td>\n",
       "      <td>\"876\"</td>\n",
       "      <td>\"-13.3\"</td>\n",
       "      <td>\"-176.2\"</td>\n",
       "    </tr>\n",
       "    <tr>\n",
       "      <th>252</th>\n",
       "      <td>Western Sahara</td>\n",
       "      <td>\"EH\"</td>\n",
       "      <td>\"ESH\"</td>\n",
       "      <td>\"732\"</td>\n",
       "      <td>\"24.5\"</td>\n",
       "      <td>\"-13\"</td>\n",
       "    </tr>\n",
       "    <tr>\n",
       "      <th>253</th>\n",
       "      <td>Yemen</td>\n",
       "      <td>\"YE\"</td>\n",
       "      <td>\"YEM\"</td>\n",
       "      <td>\"887\"</td>\n",
       "      <td>\"15\"</td>\n",
       "      <td>\"48\"</td>\n",
       "    </tr>\n",
       "    <tr>\n",
       "      <th>254</th>\n",
       "      <td>Zambia</td>\n",
       "      <td>\"ZM\"</td>\n",
       "      <td>\"ZMB\"</td>\n",
       "      <td>\"894\"</td>\n",
       "      <td>\"-15\"</td>\n",
       "      <td>\"30\"</td>\n",
       "    </tr>\n",
       "    <tr>\n",
       "      <th>255</th>\n",
       "      <td>Zimbabwe</td>\n",
       "      <td>\"ZW\"</td>\n",
       "      <td>\"ZWE\"</td>\n",
       "      <td>\"716\"</td>\n",
       "      <td>\"-20\"</td>\n",
       "      <td>\"30\"</td>\n",
       "    </tr>\n",
       "  </tbody>\n",
       "</table>\n",
       "<p>256 rows × 6 columns</p>\n",
       "</div>"
      ],
      "text/plain": [
       "               Country Alpha-2 code Alpha-3 code Numeric code  \\\n",
       "0          Afghanistan         \"AF\"        \"AFG\"          \"4\"   \n",
       "1              Albania         \"AL\"        \"ALB\"          \"8\"   \n",
       "2              Algeria         \"DZ\"        \"DZA\"         \"12\"   \n",
       "3       American Samoa         \"AS\"        \"ASM\"         \"16\"   \n",
       "4              Andorra         \"AD\"        \"AND\"         \"20\"   \n",
       "..                 ...          ...          ...          ...   \n",
       "251  Wallis and Futuna         \"WF\"        \"WLF\"        \"876\"   \n",
       "252     Western Sahara         \"EH\"        \"ESH\"        \"732\"   \n",
       "253              Yemen         \"YE\"        \"YEM\"        \"887\"   \n",
       "254             Zambia         \"ZM\"        \"ZMB\"        \"894\"   \n",
       "255           Zimbabwe         \"ZW\"        \"ZWE\"        \"716\"   \n",
       "\n",
       "    Latitude (average) Longitude (average)  \n",
       "0                 \"33\"                \"65\"  \n",
       "1                 \"41\"                \"20\"  \n",
       "2                 \"28\"                 \"3\"  \n",
       "3           \"-14.3333\"              \"-170\"  \n",
       "4               \"42.5\"               \"1.6\"  \n",
       "..                 ...                 ...  \n",
       "251            \"-13.3\"            \"-176.2\"  \n",
       "252             \"24.5\"               \"-13\"  \n",
       "253               \"15\"                \"48\"  \n",
       "254              \"-15\"                \"30\"  \n",
       "255              \"-20\"                \"30\"  \n",
       "\n",
       "[256 rows x 6 columns]"
      ]
     },
     "execution_count": 16,
     "metadata": {},
     "output_type": "execute_result"
    }
   ],
   "source": [
    "df_country_codes"
   ]
  },
  {
   "cell_type": "code",
   "execution_count": 17,
   "id": "df60081d",
   "metadata": {},
   "outputs": [
    {
     "name": "stdout",
     "output_type": "stream",
     "text": [
      "<class 'pandas.core.frame.DataFrame'>\n",
      "RangeIndex: 256 entries, 0 to 255\n",
      "Data columns (total 6 columns):\n",
      " #   Column               Non-Null Count  Dtype  \n",
      "---  ------               --------------  -----  \n",
      " 0   Country              256 non-null    object \n",
      " 1   Alpha-2 code         256 non-null    object \n",
      " 2   Alpha-3 code         256 non-null    object \n",
      " 3   Numeric code         256 non-null    int32  \n",
      " 4   Latitude (average)   256 non-null    float64\n",
      " 5   Longitude (average)  256 non-null    float64\n",
      "dtypes: float64(2), int32(1), object(3)\n",
      "memory usage: 11.1+ KB\n"
     ]
    }
   ],
   "source": [
    "columns = ['Alpha-2 code', 'Alpha-3 code', 'Numeric code', 'Latitude (average)', 'Longitude (average)']\n",
    "\n",
    "for column in columns:\n",
    "    df_country_codes[column] = df_country_codes[column].str.replace('\"', '')\n",
    "    df_country_codes[column] = df_country_codes[column].str.replace(' ', '')\n",
    "    \n",
    "df_country_codes['Numeric code'] = df_country_codes['Numeric code'].astype('int')\n",
    "df_country_codes['Latitude (average)'] = df_country_codes['Latitude (average)'].astype('float')\n",
    "df_country_codes['Longitude (average)'] = df_country_codes['Longitude (average)'].astype('float')\n",
    "df_country_codes.info()"
   ]
  },
  {
   "cell_type": "code",
   "execution_count": 18,
   "id": "8f885e0c",
   "metadata": {
    "scrolled": false
   },
   "outputs": [
    {
     "name": "stdout",
     "output_type": "stream",
     "text": [
      "244 country codes\n",
      "['AFG', 'ALB', 'DZA', 'ASM', 'AND', 'AGO', 'AIA', 'ATA', 'ATG', 'ARG', 'ARM', 'ABW', 'AUS', 'AUT', 'AZE', 'BHS', 'BHR', 'BGD', 'BRB', 'BLR', 'BEL', 'BLZ', 'BEN', 'BMU', 'BTN', 'BOL', 'BIH', 'BWA', 'BVT', 'BRA', 'IOT', 'BRN', 'BGR', 'BFA', 'BDI', 'KHM', 'CMR', 'CAN', 'CPV', 'CYM', 'CAF', 'TCD', 'CHL', 'CHN', 'CXR', 'CCK', 'COL', 'COM', 'COG', 'COD', 'COK', 'CRI', 'CIV', 'HRV', 'CUB', 'CYP', 'CZE', 'DNK', 'DJI', 'DMA', 'DOM', 'ECU', 'EGY', 'SLV', 'GNQ', 'ERI', 'EST', 'ETH', 'FLK', 'FRO', 'FJI', 'FIN', 'FRA', 'GUF', 'PYF', 'ATF', 'GAB', 'GMB', 'GEO', 'DEU', 'GHA', 'GIB', 'GRC', 'GRL', 'GRD', 'GLP', 'GUM', 'GTM', 'GGY', 'GIN', 'GNB', 'GUY', 'HTI', 'HMD', 'VAT', 'HND', 'HKG', 'HUN', 'ISL', 'IND', 'IDN', 'IRN', 'IRQ', 'IRL', 'IMN', 'ISR', 'ITA', 'JAM', 'JPN', 'JEY', 'JOR', 'KAZ', 'KEN', 'KIR', 'PRK', 'KOR', 'KWT', 'KGZ', 'LAO', 'LVA', 'LBN', 'LSO', 'LBR', 'LBY', 'LIE', 'LTU', 'LUX', 'MAC', 'MKD', 'MDG', 'MWI', 'MYS', 'MDV', 'MLI', 'MLT', 'MHL', 'MTQ', 'MRT', 'MUS', 'MYT', 'MEX', 'FSM', 'MDA', 'MCO', 'MNG', 'MNE', 'MSR', 'MAR', 'MOZ', 'MMR', 'NAM', 'NRU', 'NPL', 'NLD', 'ANT', 'NCL', 'NZL', 'NIC', 'NER', 'NGA', 'NIU', 'NFK', 'MNP', 'NOR', 'OMN', 'PAK', 'PLW', 'PSE', 'PAN', 'PNG', 'PRY', 'PER', 'PHL', 'PCN', 'POL', 'PRT', 'PRI', 'QAT', 'REU', 'ROU', 'RUS', 'RWA', 'SHN', 'KNA', 'LCA', 'SPM', 'VCT', 'WSM', 'SMR', 'STP', 'SAU', 'SEN', 'SRB', 'SYC', 'SLE', 'SGP', 'SVK', 'SVN', 'SLB', 'SOM', 'ZAF', 'SGS', 'SSD', 'ESP', 'LKA', 'SDN', 'SUR', 'SJM', 'SWZ', 'SWE', 'CHE', 'SYR', 'TWN', 'TJK', 'TZA', 'THA', 'TLS', 'TGO', 'TKL', 'TON', 'TTO', 'TUN', 'TUR', 'TKM', 'TCA', 'TUV', 'UGA', 'UKR', 'ARE', 'GBR', 'USA', 'UMI', 'URY', 'UZB', 'VUT', 'VEN', 'VNM', 'VGB', 'VIR', 'WLF', 'ESH', 'YEM', 'ZMB', 'ZWE']\n"
     ]
    }
   ],
   "source": [
    "country_codes = df_country_codes['Alpha-3 code'].unique().tolist()\n",
    "print(len(country_codes), \"country codes\")\n",
    "print(country_codes)"
   ]
  }
 ],
 "metadata": {
  "kernelspec": {
   "display_name": "Anaconda (base)",
   "language": "python",
   "name": "anaconda-base"
  },
  "language_info": {
   "codemirror_mode": {
    "name": "ipython",
    "version": 3
   },
   "file_extension": ".py",
   "mimetype": "text/x-python",
   "name": "python",
   "nbconvert_exporter": "python",
   "pygments_lexer": "ipython3",
   "version": "3.8.8"
  }
 },
 "nbformat": 4,
 "nbformat_minor": 5
}
