{
 "cells": [
  {
   "cell_type": "code",
   "execution_count": 1,
   "metadata": {},
   "outputs": [],
   "source": [
    "import pandas as pd\n",
    "import numpy as np\n",
    "import seaborn as sns\n",
    "import matplotlib.pyplot as plt\n",
    "import missingno as msno\n",
    "import os\n",
    "from os import listdir\n",
    "from os.path import isfile, join\n",
    "import pprint"
   ]
  },
  {
   "cell_type": "markdown",
   "metadata": {},
   "source": [
    "## Simple EDA"
   ]
  },
  {
   "cell_type": "code",
   "execution_count": 2,
   "metadata": {},
   "outputs": [],
   "source": [
    "# get all files' name\n",
    "mypath = './data'\n",
    "allfiles = [f for f in listdir(mypath) if isfile(join(mypath, f))]"
   ]
  },
  {
   "cell_type": "code",
   "execution_count": 3,
   "metadata": {},
   "outputs": [
    {
     "name": "stdout",
     "output_type": "stream",
     "text": [
      "228\n",
      "['tas_timeseries_annual_cru_1901-2020_ABW.csv', 'tas_timeseries_annual_cru_1901-2020_AFG.csv', 'tas_timeseries_annual_cru_1901-2020_AGO.csv', 'tas_timeseries_annual_cru_1901-2020_AIA.csv', 'tas_timeseries_annual_cru_1901-2020_ALB.csv']\n"
     ]
    }
   ],
   "source": [
    "# print first 5 files' name\n",
    "print(len(allfiles))\n",
    "print(allfiles[0:5])"
   ]
  },
  {
   "cell_type": "code",
   "execution_count": 4,
   "metadata": {},
   "outputs": [
    {
     "name": "stdout",
     "output_type": "stream",
     "text": [
      "ABW\n"
     ]
    }
   ],
   "source": [
    "# print country codes of allfiles[0]\n",
    "print(allfiles[0][-7:-4])"
   ]
  },
  {
   "cell_type": "code",
   "execution_count": 5,
   "metadata": {},
   "outputs": [
    {
     "name": "stdout",
     "output_type": "stream",
     "text": [
      "Country Code: ABW\n",
      "Country Name: Aruba\n"
     ]
    },
    {
     "data": {
      "text/html": [
       "<div>\n",
       "<style scoped>\n",
       "    .dataframe tbody tr th:only-of-type {\n",
       "        vertical-align: middle;\n",
       "    }\n",
       "\n",
       "    .dataframe tbody tr th {\n",
       "        vertical-align: top;\n",
       "    }\n",
       "\n",
       "    .dataframe thead th {\n",
       "        text-align: right;\n",
       "    }\n",
       "</style>\n",
       "<table border=\"1\" class=\"dataframe\">\n",
       "  <thead>\n",
       "    <tr style=\"text-align: right;\">\n",
       "      <th></th>\n",
       "      <th>Year</th>\n",
       "      <th>Aruba</th>\n",
       "    </tr>\n",
       "  </thead>\n",
       "  <tbody>\n",
       "    <tr>\n",
       "      <th>0</th>\n",
       "      <td>1901</td>\n",
       "      <td>27.60</td>\n",
       "    </tr>\n",
       "    <tr>\n",
       "      <th>1</th>\n",
       "      <td>1902</td>\n",
       "      <td>27.17</td>\n",
       "    </tr>\n",
       "    <tr>\n",
       "      <th>2</th>\n",
       "      <td>1903</td>\n",
       "      <td>27.27</td>\n",
       "    </tr>\n",
       "    <tr>\n",
       "      <th>3</th>\n",
       "      <td>1904</td>\n",
       "      <td>27.00</td>\n",
       "    </tr>\n",
       "    <tr>\n",
       "      <th>4</th>\n",
       "      <td>1905</td>\n",
       "      <td>27.05</td>\n",
       "    </tr>\n",
       "  </tbody>\n",
       "</table>\n",
       "</div>"
      ],
      "text/plain": [
       "   Year  Aruba\n",
       "0  1901  27.60\n",
       "1  1902  27.17\n",
       "2  1903  27.27\n",
       "3  1904  27.00\n",
       "4  1905  27.05"
      ]
     },
     "execution_count": 5,
     "metadata": {},
     "output_type": "execute_result"
    }
   ],
   "source": [
    "# visualize single dataset\n",
    "country_num = 0\n",
    "\n",
    "df = pd.read_csv('./data/'+str(allfiles[country_num]), skiprows=[0]) # skip first row\n",
    "df.rename(columns={'Unnamed: 0':'Year'}, inplace=True)\n",
    "df_sliced = df.iloc[:,0:2]\n",
    "country_name = str(df_sliced.columns.values[1])\n",
    "country_code = str(allfiles[country_num][-7:-4])\n",
    "print(\"Country Code: \"+country_code)\n",
    "print(\"Country Name: \"+country_name)\n",
    "df_sliced.head()"
   ]
  },
  {
   "cell_type": "code",
   "execution_count": 6,
   "metadata": {},
   "outputs": [
    {
     "data": {
      "text/html": [
       "<div>\n",
       "<style scoped>\n",
       "    .dataframe tbody tr th:only-of-type {\n",
       "        vertical-align: middle;\n",
       "    }\n",
       "\n",
       "    .dataframe tbody tr th {\n",
       "        vertical-align: top;\n",
       "    }\n",
       "\n",
       "    .dataframe thead th {\n",
       "        text-align: right;\n",
       "    }\n",
       "</style>\n",
       "<table border=\"1\" class=\"dataframe\">\n",
       "  <thead>\n",
       "    <tr style=\"text-align: right;\">\n",
       "      <th>Year</th>\n",
       "      <th>1901</th>\n",
       "      <th>1902</th>\n",
       "      <th>1903</th>\n",
       "      <th>1904</th>\n",
       "      <th>1905</th>\n",
       "      <th>1906</th>\n",
       "      <th>1907</th>\n",
       "      <th>1908</th>\n",
       "      <th>1909</th>\n",
       "      <th>1910</th>\n",
       "      <th>...</th>\n",
       "      <th>2011</th>\n",
       "      <th>2012</th>\n",
       "      <th>2013</th>\n",
       "      <th>2014</th>\n",
       "      <th>2015</th>\n",
       "      <th>2016</th>\n",
       "      <th>2017</th>\n",
       "      <th>2018</th>\n",
       "      <th>2019</th>\n",
       "      <th>2020</th>\n",
       "    </tr>\n",
       "  </thead>\n",
       "  <tbody>\n",
       "    <tr>\n",
       "      <th>Aruba</th>\n",
       "      <td>27.6</td>\n",
       "      <td>27.17</td>\n",
       "      <td>27.27</td>\n",
       "      <td>27.0</td>\n",
       "      <td>27.05</td>\n",
       "      <td>26.96</td>\n",
       "      <td>26.93</td>\n",
       "      <td>26.84</td>\n",
       "      <td>26.89</td>\n",
       "      <td>26.89</td>\n",
       "      <td>...</td>\n",
       "      <td>28.31</td>\n",
       "      <td>28.52</td>\n",
       "      <td>28.64</td>\n",
       "      <td>28.67</td>\n",
       "      <td>29.04</td>\n",
       "      <td>29.17</td>\n",
       "      <td>28.68</td>\n",
       "      <td>28.38</td>\n",
       "      <td>28.75</td>\n",
       "      <td>28.76</td>\n",
       "    </tr>\n",
       "  </tbody>\n",
       "</table>\n",
       "<p>1 rows × 120 columns</p>\n",
       "</div>"
      ],
      "text/plain": [
       "Year   1901   1902   1903  1904   1905   1906   1907   1908   1909   1910  \\\n",
       "Aruba  27.6  27.17  27.27  27.0  27.05  26.96  26.93  26.84  26.89  26.89   \n",
       "\n",
       "Year   ...   2011   2012   2013   2014   2015   2016   2017   2018   2019  \\\n",
       "Aruba  ...  28.31  28.52  28.64  28.67  29.04  29.17  28.68  28.38  28.75   \n",
       "\n",
       "Year    2020  \n",
       "Aruba  28.76  \n",
       "\n",
       "[1 rows x 120 columns]"
      ]
     },
     "execution_count": 6,
     "metadata": {},
     "output_type": "execute_result"
    }
   ],
   "source": [
    "df_sliced.set_index('Year', inplace=True)\n",
    "df_final_1 = df_sliced.transpose()\n",
    "df_final_1"
   ]
  },
  {
   "cell_type": "code",
   "execution_count": 7,
   "metadata": {},
   "outputs": [
    {
     "name": "stdout",
     "output_type": "stream",
     "text": [
      "Country Code: AFG\n",
      "Country Name: Afghanistan\n"
     ]
    },
    {
     "data": {
      "text/html": [
       "<div>\n",
       "<style scoped>\n",
       "    .dataframe tbody tr th:only-of-type {\n",
       "        vertical-align: middle;\n",
       "    }\n",
       "\n",
       "    .dataframe tbody tr th {\n",
       "        vertical-align: top;\n",
       "    }\n",
       "\n",
       "    .dataframe thead th {\n",
       "        text-align: right;\n",
       "    }\n",
       "</style>\n",
       "<table border=\"1\" class=\"dataframe\">\n",
       "  <thead>\n",
       "    <tr style=\"text-align: right;\">\n",
       "      <th></th>\n",
       "      <th>Year</th>\n",
       "      <th>Afghanistan</th>\n",
       "    </tr>\n",
       "  </thead>\n",
       "  <tbody>\n",
       "    <tr>\n",
       "      <th>0</th>\n",
       "      <td>1901</td>\n",
       "      <td>13.08</td>\n",
       "    </tr>\n",
       "    <tr>\n",
       "      <th>1</th>\n",
       "      <td>1902</td>\n",
       "      <td>13.27</td>\n",
       "    </tr>\n",
       "    <tr>\n",
       "      <th>2</th>\n",
       "      <td>1903</td>\n",
       "      <td>12.11</td>\n",
       "    </tr>\n",
       "    <tr>\n",
       "      <th>3</th>\n",
       "      <td>1904</td>\n",
       "      <td>12.56</td>\n",
       "    </tr>\n",
       "    <tr>\n",
       "      <th>4</th>\n",
       "      <td>1905</td>\n",
       "      <td>12.33</td>\n",
       "    </tr>\n",
       "  </tbody>\n",
       "</table>\n",
       "</div>"
      ],
      "text/plain": [
       "   Year  Afghanistan\n",
       "0  1901        13.08\n",
       "1  1902        13.27\n",
       "2  1903        12.11\n",
       "3  1904        12.56\n",
       "4  1905        12.33"
      ]
     },
     "execution_count": 7,
     "metadata": {},
     "output_type": "execute_result"
    }
   ],
   "source": [
    "# visualize single dataset\n",
    "country_num = 1\n",
    "\n",
    "df = pd.read_csv('./data/'+str(allfiles[country_num]), skiprows=[0]) # skip first row\n",
    "df.rename(columns={'Unnamed: 0':'Year'}, inplace=True)\n",
    "df_sliced = df.iloc[:,0:2]\n",
    "country_name = str(df_sliced.columns.values[1])\n",
    "country_code = str(allfiles[country_num][-7:-4])\n",
    "print(\"Country Code: \"+country_code)\n",
    "print(\"Country Name: \"+country_name)\n",
    "df_sliced.head()"
   ]
  },
  {
   "cell_type": "code",
   "execution_count": 8,
   "metadata": {},
   "outputs": [
    {
     "data": {
      "text/html": [
       "<div>\n",
       "<style scoped>\n",
       "    .dataframe tbody tr th:only-of-type {\n",
       "        vertical-align: middle;\n",
       "    }\n",
       "\n",
       "    .dataframe tbody tr th {\n",
       "        vertical-align: top;\n",
       "    }\n",
       "\n",
       "    .dataframe thead th {\n",
       "        text-align: right;\n",
       "    }\n",
       "</style>\n",
       "<table border=\"1\" class=\"dataframe\">\n",
       "  <thead>\n",
       "    <tr style=\"text-align: right;\">\n",
       "      <th>Year</th>\n",
       "      <th>1901</th>\n",
       "      <th>1902</th>\n",
       "      <th>1903</th>\n",
       "      <th>1904</th>\n",
       "      <th>1905</th>\n",
       "      <th>1906</th>\n",
       "      <th>1907</th>\n",
       "      <th>1908</th>\n",
       "      <th>1909</th>\n",
       "      <th>1910</th>\n",
       "      <th>...</th>\n",
       "      <th>2011</th>\n",
       "      <th>2012</th>\n",
       "      <th>2013</th>\n",
       "      <th>2014</th>\n",
       "      <th>2015</th>\n",
       "      <th>2016</th>\n",
       "      <th>2017</th>\n",
       "      <th>2018</th>\n",
       "      <th>2019</th>\n",
       "      <th>2020</th>\n",
       "    </tr>\n",
       "  </thead>\n",
       "  <tbody>\n",
       "    <tr>\n",
       "      <th>Afghanistan</th>\n",
       "      <td>13.08</td>\n",
       "      <td>13.27</td>\n",
       "      <td>12.11</td>\n",
       "      <td>12.56</td>\n",
       "      <td>12.33</td>\n",
       "      <td>12.81</td>\n",
       "      <td>12.19</td>\n",
       "      <td>12.56</td>\n",
       "      <td>13.04</td>\n",
       "      <td>12.48</td>\n",
       "      <td>...</td>\n",
       "      <td>13.85</td>\n",
       "      <td>13.24</td>\n",
       "      <td>14.18</td>\n",
       "      <td>13.61</td>\n",
       "      <td>13.97</td>\n",
       "      <td>14.5</td>\n",
       "      <td>14.12</td>\n",
       "      <td>14.55</td>\n",
       "      <td>13.86</td>\n",
       "      <td>13.25</td>\n",
       "    </tr>\n",
       "  </tbody>\n",
       "</table>\n",
       "<p>1 rows × 120 columns</p>\n",
       "</div>"
      ],
      "text/plain": [
       "Year          1901   1902   1903   1904   1905   1906   1907   1908   1909  \\\n",
       "Afghanistan  13.08  13.27  12.11  12.56  12.33  12.81  12.19  12.56  13.04   \n",
       "\n",
       "Year          1910  ...   2011   2012   2013   2014   2015  2016   2017  \\\n",
       "Afghanistan  12.48  ...  13.85  13.24  14.18  13.61  13.97  14.5  14.12   \n",
       "\n",
       "Year          2018   2019   2020  \n",
       "Afghanistan  14.55  13.86  13.25  \n",
       "\n",
       "[1 rows x 120 columns]"
      ]
     },
     "execution_count": 8,
     "metadata": {},
     "output_type": "execute_result"
    }
   ],
   "source": [
    "df_sliced.set_index('Year', inplace=True)\n",
    "df_final_2 = df_sliced.transpose()\n",
    "df_final_2"
   ]
  },
  {
   "cell_type": "code",
   "execution_count": 9,
   "metadata": {},
   "outputs": [
    {
     "data": {
      "text/html": [
       "<div>\n",
       "<style scoped>\n",
       "    .dataframe tbody tr th:only-of-type {\n",
       "        vertical-align: middle;\n",
       "    }\n",
       "\n",
       "    .dataframe tbody tr th {\n",
       "        vertical-align: top;\n",
       "    }\n",
       "\n",
       "    .dataframe thead th {\n",
       "        text-align: right;\n",
       "    }\n",
       "</style>\n",
       "<table border=\"1\" class=\"dataframe\">\n",
       "  <thead>\n",
       "    <tr style=\"text-align: right;\">\n",
       "      <th>Year</th>\n",
       "      <th>1901</th>\n",
       "      <th>1902</th>\n",
       "      <th>1903</th>\n",
       "      <th>1904</th>\n",
       "      <th>1905</th>\n",
       "      <th>1906</th>\n",
       "      <th>1907</th>\n",
       "      <th>1908</th>\n",
       "      <th>1909</th>\n",
       "      <th>1910</th>\n",
       "      <th>...</th>\n",
       "      <th>2011</th>\n",
       "      <th>2012</th>\n",
       "      <th>2013</th>\n",
       "      <th>2014</th>\n",
       "      <th>2015</th>\n",
       "      <th>2016</th>\n",
       "      <th>2017</th>\n",
       "      <th>2018</th>\n",
       "      <th>2019</th>\n",
       "      <th>2020</th>\n",
       "    </tr>\n",
       "  </thead>\n",
       "  <tbody>\n",
       "    <tr>\n",
       "      <th>Aruba</th>\n",
       "      <td>27.60</td>\n",
       "      <td>27.17</td>\n",
       "      <td>27.27</td>\n",
       "      <td>27.00</td>\n",
       "      <td>27.05</td>\n",
       "      <td>26.96</td>\n",
       "      <td>26.93</td>\n",
       "      <td>26.84</td>\n",
       "      <td>26.89</td>\n",
       "      <td>26.89</td>\n",
       "      <td>...</td>\n",
       "      <td>28.31</td>\n",
       "      <td>28.52</td>\n",
       "      <td>28.64</td>\n",
       "      <td>28.67</td>\n",
       "      <td>29.04</td>\n",
       "      <td>29.17</td>\n",
       "      <td>28.68</td>\n",
       "      <td>28.38</td>\n",
       "      <td>28.75</td>\n",
       "      <td>28.76</td>\n",
       "    </tr>\n",
       "    <tr>\n",
       "      <th>Afghanistan</th>\n",
       "      <td>13.08</td>\n",
       "      <td>13.27</td>\n",
       "      <td>12.11</td>\n",
       "      <td>12.56</td>\n",
       "      <td>12.33</td>\n",
       "      <td>12.81</td>\n",
       "      <td>12.19</td>\n",
       "      <td>12.56</td>\n",
       "      <td>13.04</td>\n",
       "      <td>12.48</td>\n",
       "      <td>...</td>\n",
       "      <td>13.85</td>\n",
       "      <td>13.24</td>\n",
       "      <td>14.18</td>\n",
       "      <td>13.61</td>\n",
       "      <td>13.97</td>\n",
       "      <td>14.50</td>\n",
       "      <td>14.12</td>\n",
       "      <td>14.55</td>\n",
       "      <td>13.86</td>\n",
       "      <td>13.25</td>\n",
       "    </tr>\n",
       "  </tbody>\n",
       "</table>\n",
       "<p>2 rows × 120 columns</p>\n",
       "</div>"
      ],
      "text/plain": [
       "Year          1901   1902   1903   1904   1905   1906   1907   1908   1909  \\\n",
       "Aruba        27.60  27.17  27.27  27.00  27.05  26.96  26.93  26.84  26.89   \n",
       "Afghanistan  13.08  13.27  12.11  12.56  12.33  12.81  12.19  12.56  13.04   \n",
       "\n",
       "Year          1910  ...   2011   2012   2013   2014   2015   2016   2017  \\\n",
       "Aruba        26.89  ...  28.31  28.52  28.64  28.67  29.04  29.17  28.68   \n",
       "Afghanistan  12.48  ...  13.85  13.24  14.18  13.61  13.97  14.50  14.12   \n",
       "\n",
       "Year          2018   2019   2020  \n",
       "Aruba        28.38  28.75  28.76  \n",
       "Afghanistan  14.55  13.86  13.25  \n",
       "\n",
       "[2 rows x 120 columns]"
      ]
     },
     "execution_count": 9,
     "metadata": {},
     "output_type": "execute_result"
    }
   ],
   "source": [
    "# concate 2 dataframes\n",
    "df_final_3 = pd.concat([df_final_1, df_final_2])\n",
    "df_final_3"
   ]
  },
  {
   "cell_type": "code",
   "execution_count": 10,
   "metadata": {},
   "outputs": [
    {
     "data": {
      "text/html": [
       "<div>\n",
       "<style scoped>\n",
       "    .dataframe tbody tr th:only-of-type {\n",
       "        vertical-align: middle;\n",
       "    }\n",
       "\n",
       "    .dataframe tbody tr th {\n",
       "        vertical-align: top;\n",
       "    }\n",
       "\n",
       "    .dataframe thead th {\n",
       "        text-align: right;\n",
       "    }\n",
       "</style>\n",
       "<table border=\"1\" class=\"dataframe\">\n",
       "  <thead>\n",
       "    <tr style=\"text-align: right;\">\n",
       "      <th>Year</th>\n",
       "      <th>1901</th>\n",
       "      <th>1902</th>\n",
       "      <th>1903</th>\n",
       "      <th>1904</th>\n",
       "      <th>1905</th>\n",
       "      <th>1906</th>\n",
       "      <th>1907</th>\n",
       "      <th>1908</th>\n",
       "      <th>1909</th>\n",
       "      <th>1910</th>\n",
       "      <th>...</th>\n",
       "      <th>2011</th>\n",
       "      <th>2012</th>\n",
       "      <th>2013</th>\n",
       "      <th>2014</th>\n",
       "      <th>2015</th>\n",
       "      <th>2016</th>\n",
       "      <th>2017</th>\n",
       "      <th>2018</th>\n",
       "      <th>2019</th>\n",
       "      <th>2020</th>\n",
       "    </tr>\n",
       "  </thead>\n",
       "  <tbody>\n",
       "  </tbody>\n",
       "</table>\n",
       "<p>0 rows × 120 columns</p>\n",
       "</div>"
      ],
      "text/plain": [
       "Empty DataFrame\n",
       "Columns: [1901, 1902, 1903, 1904, 1905, 1906, 1907, 1908, 1909, 1910, 1911, 1912, 1913, 1914, 1915, 1916, 1917, 1918, 1919, 1920, 1921, 1922, 1923, 1924, 1925, 1926, 1927, 1928, 1929, 1930, 1931, 1932, 1933, 1934, 1935, 1936, 1937, 1938, 1939, 1940, 1941, 1942, 1943, 1944, 1945, 1946, 1947, 1948, 1949, 1950, 1951, 1952, 1953, 1954, 1955, 1956, 1957, 1958, 1959, 1960, 1961, 1962, 1963, 1964, 1965, 1966, 1967, 1968, 1969, 1970, 1971, 1972, 1973, 1974, 1975, 1976, 1977, 1978, 1979, 1980, 1981, 1982, 1983, 1984, 1985, 1986, 1987, 1988, 1989, 1990, 1991, 1992, 1993, 1994, 1995, 1996, 1997, 1998, 1999, 2000, ...]\n",
       "Index: []\n",
       "\n",
       "[0 rows x 120 columns]"
      ]
     },
     "execution_count": 10,
     "metadata": {},
     "output_type": "execute_result"
    }
   ],
   "source": [
    "df_empty = df_final_3.drop(labels=['Aruba','Afghanistan'], axis=0)\n",
    "df_empty"
   ]
  },
  {
   "cell_type": "code",
   "execution_count": 11,
   "metadata": {},
   "outputs": [
    {
     "name": "stdout",
     "output_type": "stream",
     "text": [
      "{}\n"
     ]
    }
   ],
   "source": [
    "# Convert country code list & country name list into dict\n",
    "\n",
    "# initializing lists\n",
    "country_code_keys = []\n",
    "country_name_values = []\n",
    "  \n",
    "# using zip()\n",
    "# to convert lists to dictionary\n",
    "countries_dict = dict(zip(country_code_keys, country_name_values))\n",
    "  \n",
    "# Printing resultant dictionary \n",
    "pprint.pprint(countries_dict, width=1)"
   ]
  },
  {
   "cell_type": "markdown",
   "metadata": {},
   "source": [
    "## Final Data Engineering Pipeline"
   ]
  },
  {
   "cell_type": "code",
   "execution_count": 12,
   "metadata": {},
   "outputs": [
    {
     "name": "stdout",
     "output_type": "stream",
     "text": [
      "ABW : Aruba\n",
      "AFG : Afghanistan\n",
      "AGO : Angola\n",
      "AIA : Anguilla\n",
      "ALB : Albania\n",
      "AND : Andorra\n",
      "ARE : United Arab Emirates\n",
      "ARG : Argentina\n",
      "ARM : Armenia\n",
      "ASM : American Samoa\n",
      "ATG : Antigua and Barbuda\n",
      "AUS : Australia\n",
      "AUT : Austria\n",
      "AZE : Azerbaijan\n",
      "BDI : Burundi\n",
      "BEL : Belgium\n",
      "BEN : Benin\n",
      "BFA : Burkina Faso\n",
      "BGD : Bangladesh\n",
      "BGR : Bulgaria\n",
      "BHR : Bahrain\n",
      "BHS : Bahamas, The\n",
      "BIH : Bosnia and Herzegovina\n",
      "BLR : Belarus\n",
      "BLZ : Belize\n",
      "BMU : Bermuda\n",
      "BOL : Bolivia\n",
      "BRA : Brazil\n",
      "BRB : Barbados\n",
      "BTN : Bhutan\n",
      "BWA : Botswana\n",
      "CAF : Central African Republic\n",
      "CAN : Canada\n",
      "CCK : Cocos (Keeling) Islands\n",
      "CHE : Switzerland\n",
      "CHL : Chile\n",
      "CHN : China\n",
      "CIV : Cote d'Ivoire\n",
      "CMR : Cameroon\n",
      "COD : Congo (Democratic Republic of the)\n",
      "COG : Congo (Republic of the)\n",
      "COK : Cook Islands\n",
      "COL : Colombia\n",
      "COM : Comoros\n",
      "CPV : Cape Verde\n",
      "CRI : Costa Rica\n",
      "CUB : Cuba\n",
      "CXR : Christmas Island\n",
      "CYM : Cayman Islands\n",
      "CYP : Cyprus\n",
      "CZE : Czech Republic\n",
      "DEU : Germany\n",
      "DJI : Djibouti\n",
      "DMA : Dominica\n",
      "DNK : Denmark\n",
      "DOM : Dominican Republic\n",
      "DZA : Algeria\n",
      "ECU : Ecuador\n",
      "EGY : Egypt\n",
      "ERI : Eritrea\n",
      "ESH : 23.46\n"
     ]
    },
    {
     "ename": "KeyError",
     "evalue": "\"None of ['Year'] are in the columns\"",
     "output_type": "error",
     "traceback": [
      "\u001b[1;31m---------------------------------------------------------------------------\u001b[0m",
      "\u001b[1;31mKeyError\u001b[0m                                  Traceback (most recent call last)",
      "\u001b[1;32m<ipython-input-12-f29fa8cc9907>\u001b[0m in \u001b[0;36m<module>\u001b[1;34m\u001b[0m\n\u001b[0;32m     15\u001b[0m \u001b[1;33m\u001b[0m\u001b[0m\n\u001b[0;32m     16\u001b[0m     \u001b[1;31m# transpose and concate\u001b[0m\u001b[1;33m\u001b[0m\u001b[1;33m\u001b[0m\u001b[1;33m\u001b[0m\u001b[0m\n\u001b[1;32m---> 17\u001b[1;33m     \u001b[0mdf_sliced\u001b[0m\u001b[1;33m.\u001b[0m\u001b[0mset_index\u001b[0m\u001b[1;33m(\u001b[0m\u001b[1;34m'Year'\u001b[0m\u001b[1;33m,\u001b[0m \u001b[0minplace\u001b[0m\u001b[1;33m=\u001b[0m\u001b[1;32mTrue\u001b[0m\u001b[1;33m)\u001b[0m\u001b[1;33m\u001b[0m\u001b[1;33m\u001b[0m\u001b[0m\n\u001b[0m\u001b[0;32m     18\u001b[0m     \u001b[0mdf_temp\u001b[0m \u001b[1;33m=\u001b[0m \u001b[0mdf_sliced\u001b[0m\u001b[1;33m.\u001b[0m\u001b[0mtranspose\u001b[0m\u001b[1;33m(\u001b[0m\u001b[1;33m)\u001b[0m\u001b[1;33m\u001b[0m\u001b[1;33m\u001b[0m\u001b[0m\n\u001b[0;32m     19\u001b[0m     \u001b[0mdf_final\u001b[0m \u001b[1;33m=\u001b[0m \u001b[0mpd\u001b[0m\u001b[1;33m.\u001b[0m\u001b[0mconcat\u001b[0m\u001b[1;33m(\u001b[0m\u001b[1;33m[\u001b[0m\u001b[0mdf_final\u001b[0m\u001b[1;33m,\u001b[0m \u001b[0mdf_temp\u001b[0m\u001b[1;33m]\u001b[0m\u001b[1;33m)\u001b[0m\u001b[1;33m\u001b[0m\u001b[1;33m\u001b[0m\u001b[0m\n",
      "\u001b[1;32m~\\anaconda3\\lib\\site-packages\\pandas\\core\\frame.py\u001b[0m in \u001b[0;36mset_index\u001b[1;34m(self, keys, drop, append, inplace, verify_integrity)\u001b[0m\n\u001b[0;32m   4549\u001b[0m \u001b[1;33m\u001b[0m\u001b[0m\n\u001b[0;32m   4550\u001b[0m         \u001b[1;32mif\u001b[0m \u001b[0mmissing\u001b[0m\u001b[1;33m:\u001b[0m\u001b[1;33m\u001b[0m\u001b[1;33m\u001b[0m\u001b[0m\n\u001b[1;32m-> 4551\u001b[1;33m             \u001b[1;32mraise\u001b[0m \u001b[0mKeyError\u001b[0m\u001b[1;33m(\u001b[0m\u001b[1;34mf\"None of {missing} are in the columns\"\u001b[0m\u001b[1;33m)\u001b[0m\u001b[1;33m\u001b[0m\u001b[1;33m\u001b[0m\u001b[0m\n\u001b[0m\u001b[0;32m   4552\u001b[0m \u001b[1;33m\u001b[0m\u001b[0m\n\u001b[0;32m   4553\u001b[0m         \u001b[1;32mif\u001b[0m \u001b[0minplace\u001b[0m\u001b[1;33m:\u001b[0m\u001b[1;33m\u001b[0m\u001b[1;33m\u001b[0m\u001b[0m\n",
      "\u001b[1;31mKeyError\u001b[0m: \"None of ['Year'] are in the columns\""
     ]
    }
   ],
   "source": [
    "df_final = df_empty.copy()\n",
    "\n",
    "for file in allfiles:\n",
    "    \n",
    "    # read csv\n",
    "    df = pd.read_csv('./data/'+str(file), skiprows=[0]) # skip first row\n",
    "    df.rename(columns={'Unnamed: 0':'Year'}, inplace=True)\n",
    "    \n",
    "    # get 'Year' and 'Country Name' only\n",
    "    df_sliced = df.iloc[:,0:2]\n",
    "    country_name = str(df_sliced.columns.values[1])\n",
    "    country_code = str(file[-7:-4])\n",
    "    print(country_code+\" : \"+country_name)\n",
    "    countries_dict[country_code] = str(country_name)\n",
    "    \n",
    "    # transpose and concate\n",
    "    df_sliced.set_index('Year', inplace=True)\n",
    "    df_temp = df_sliced.transpose()\n",
    "    df_final = pd.concat([df_final, df_temp])\n",
    "    "
   ]
  },
  {
   "cell_type": "markdown",
   "metadata": {},
   "source": [
    "## Fix file without countries name"
   ]
  },
  {
   "cell_type": "code",
   "execution_count": 14,
   "metadata": {},
   "outputs": [],
   "source": [
    "for file in allfiles:\n",
    "    \n",
    "    # read csv\n",
    "    df = pd.read_csv('./data/'+str(file), skiprows=[0]) # skip first row\n",
    "    df.rename(columns={'Unnamed: 0':'Year'}, inplace=True)\n",
    "    \n",
    "    # get 'Year' and 'Country Name' only\n",
    "    df_sliced = df.iloc[:,0:2]\n",
    "    country_name = str(df_sliced.columns.values[1])\n",
    "    country_code = str(file[-7:-4])\n",
    "    countries_dict[country_code] = str(country_name)"
   ]
  },
  {
   "cell_type": "code",
   "execution_count": 15,
   "metadata": {},
   "outputs": [
    {
     "data": {
      "text/plain": [
       "{'ESH': '23.46',\n",
       " 'FLK': '6.38',\n",
       " 'GLP': '25.83',\n",
       " 'GUF': '26.11',\n",
       " 'MTQ': '25.23',\n",
       " 'MYT': '26.41',\n",
       " 'REU': '20.25'}"
      ]
     },
     "execution_count": 15,
     "metadata": {},
     "output_type": "execute_result"
    }
   ],
   "source": [
    "# get the list of country codes that do not have name\n",
    "def has_numbers(inputString):\n",
    "    return any(char.isdigit() for char in inputString)\n",
    "\n",
    "new_dict = {key: value for key, value in countries_dict.items() if has_numbers(countries_dict[key])}\n",
    "new_dict"
   ]
  },
  {
   "cell_type": "code",
   "execution_count": 16,
   "metadata": {},
   "outputs": [
    {
     "data": {
      "text/plain": [
       "['ESH', 'FLK', 'GLP', 'GUF', 'MTQ', 'MYT', 'REU']"
      ]
     },
     "execution_count": 16,
     "metadata": {},
     "output_type": "execute_result"
    }
   ],
   "source": [
    "countries_without_name = list(new_dict.keys())\n",
    "countries_without_name"
   ]
  },
  {
   "cell_type": "code",
   "execution_count": 17,
   "metadata": {},
   "outputs": [
    {
     "name": "stdout",
     "output_type": "stream",
     "text": [
      "tas_timeseries_annual_cru_1901-2020_ESH.csv\n"
     ]
    }
   ],
   "source": [
    "country_without_name = countries_without_name[0]\n",
    "new_file_name = 'tas_timeseries_annual_cru_1901-2020_%s.csv' % country_without_name\n",
    "print(new_file_name)"
   ]
  },
  {
   "cell_type": "code",
   "execution_count": 19,
   "metadata": {},
   "outputs": [
    {
     "data": {
      "text/html": [
       "<div>\n",
       "<style scoped>\n",
       "    .dataframe tbody tr th:only-of-type {\n",
       "        vertical-align: middle;\n",
       "    }\n",
       "\n",
       "    .dataframe tbody tr th {\n",
       "        vertical-align: top;\n",
       "    }\n",
       "\n",
       "    .dataframe thead th {\n",
       "        text-align: right;\n",
       "    }\n",
       "</style>\n",
       "<table border=\"1\" class=\"dataframe\">\n",
       "  <thead>\n",
       "    <tr style=\"text-align: right;\">\n",
       "      <th></th>\n",
       "      <th>Variable:</th>\n",
       "      <th>tas</th>\n",
       "    </tr>\n",
       "  </thead>\n",
       "  <tbody>\n",
       "    <tr>\n",
       "      <th>0</th>\n",
       "      <td>1901</td>\n",
       "      <td>23.46</td>\n",
       "    </tr>\n",
       "    <tr>\n",
       "      <th>1</th>\n",
       "      <td>1902</td>\n",
       "      <td>23.45</td>\n",
       "    </tr>\n",
       "    <tr>\n",
       "      <th>2</th>\n",
       "      <td>1903</td>\n",
       "      <td>23.20</td>\n",
       "    </tr>\n",
       "    <tr>\n",
       "      <th>3</th>\n",
       "      <td>1904</td>\n",
       "      <td>23.11</td>\n",
       "    </tr>\n",
       "    <tr>\n",
       "      <th>4</th>\n",
       "      <td>1905</td>\n",
       "      <td>23.24</td>\n",
       "    </tr>\n",
       "    <tr>\n",
       "      <th>...</th>\n",
       "      <td>...</td>\n",
       "      <td>...</td>\n",
       "    </tr>\n",
       "    <tr>\n",
       "      <th>115</th>\n",
       "      <td>2016</td>\n",
       "      <td>24.42</td>\n",
       "    </tr>\n",
       "    <tr>\n",
       "      <th>116</th>\n",
       "      <td>2017</td>\n",
       "      <td>24.67</td>\n",
       "    </tr>\n",
       "    <tr>\n",
       "      <th>117</th>\n",
       "      <td>2018</td>\n",
       "      <td>23.54</td>\n",
       "    </tr>\n",
       "    <tr>\n",
       "      <th>118</th>\n",
       "      <td>2019</td>\n",
       "      <td>24.15</td>\n",
       "    </tr>\n",
       "    <tr>\n",
       "      <th>119</th>\n",
       "      <td>2020</td>\n",
       "      <td>24.63</td>\n",
       "    </tr>\n",
       "  </tbody>\n",
       "</table>\n",
       "<p>120 rows × 2 columns</p>\n",
       "</div>"
      ],
      "text/plain": [
       "     Variable:    tas\n",
       "0         1901  23.46\n",
       "1         1902  23.45\n",
       "2         1903  23.20\n",
       "3         1904  23.11\n",
       "4         1905  23.24\n",
       "..         ...    ...\n",
       "115       2016  24.42\n",
       "116       2017  24.67\n",
       "117       2018  23.54\n",
       "118       2019  24.15\n",
       "119       2020  24.63\n",
       "\n",
       "[120 rows x 2 columns]"
      ]
     },
     "execution_count": 19,
     "metadata": {},
     "output_type": "execute_result"
    }
   ],
   "source": [
    "df = pd.read_csv('./data/'+str(new_file_name))\n",
    "df"
   ]
  }
 ],
 "metadata": {
  "kernelspec": {
   "display_name": "Python 3",
   "language": "python",
   "name": "python3"
  },
  "language_info": {
   "codemirror_mode": {
    "name": "ipython",
    "version": 3
   },
   "file_extension": ".py",
   "mimetype": "text/x-python",
   "name": "python",
   "nbconvert_exporter": "python",
   "pygments_lexer": "ipython3",
   "version": "3.8.5"
  }
 },
 "nbformat": 4,
 "nbformat_minor": 4
}
